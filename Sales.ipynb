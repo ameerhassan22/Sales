{
 "cells": [
  {
   "cell_type": "markdown",
   "id": "cdf599f9-05c1-4d9c-92ec-9766df1ce6d6",
   "metadata": {
    "tags": []
   },
   "source": [
    "# Sales Analysis"
   ]
  },
  {
   "cell_type": "markdown",
   "id": "01bfab22-3471-41c4-a4b3-08b1945d8c7c",
   "metadata": {},
   "source": [
    "The data was recorded for the period 1/2/2019 and 12/30/2020 with an aim to generate business insights to guide business direction"
   ]
  },
  {
   "cell_type": "markdown",
   "id": "faca76e1-fb71-40c9-a8bd-3c79d55c770a",
   "metadata": {
    "tags": []
   },
   "source": [
    "## Exploratory Data Analysis"
   ]
  },
  {
   "cell_type": "code",
   "execution_count": 405,
   "id": "5f900d69-98f3-495f-99ce-ed8e098f808e",
   "metadata": {},
   "outputs": [],
   "source": [
    "# import Libraries\n",
    "import numpy as np\n",
    "import pandas as pd\n",
    "import matplotlib.pyplot as plt\n",
    "import seaborn as sns"
   ]
  },
  {
   "cell_type": "code",
   "execution_count": 406,
   "id": "f99a06a2-1866-4866-8acf-1801df68b1b4",
   "metadata": {
    "tags": []
   },
   "outputs": [
    {
     "data": {
      "text/html": [
       "<div>\n",
       "<style scoped>\n",
       "    .dataframe tbody tr th:only-of-type {\n",
       "        vertical-align: middle;\n",
       "    }\n",
       "\n",
       "    .dataframe tbody tr th {\n",
       "        vertical-align: top;\n",
       "    }\n",
       "\n",
       "    .dataframe thead th {\n",
       "        text-align: right;\n",
       "    }\n",
       "</style>\n",
       "<table border=\"1\" class=\"dataframe\">\n",
       "  <thead>\n",
       "    <tr style=\"text-align: right;\">\n",
       "      <th></th>\n",
       "      <th>country</th>\n",
       "      <th>order_value_EUR</th>\n",
       "      <th>cost</th>\n",
       "      <th>date</th>\n",
       "      <th>category</th>\n",
       "      <th>customer_name</th>\n",
       "      <th>sales_manager</th>\n",
       "      <th>sales_rep</th>\n",
       "      <th>device_type</th>\n",
       "      <th>order_id</th>\n",
       "    </tr>\n",
       "  </thead>\n",
       "  <tbody>\n",
       "    <tr>\n",
       "      <th>0</th>\n",
       "      <td>Sweden</td>\n",
       "      <td>17,524.02</td>\n",
       "      <td>14122.61</td>\n",
       "      <td>2/12/2020</td>\n",
       "      <td>Books</td>\n",
       "      <td>Goldner-Dibbert</td>\n",
       "      <td>Maxie Marrow</td>\n",
       "      <td>Madelon Bront</td>\n",
       "      <td>Mobile</td>\n",
       "      <td>70-0511466</td>\n",
       "    </tr>\n",
       "    <tr>\n",
       "      <th>1</th>\n",
       "      <td>Finland</td>\n",
       "      <td>116,563.40</td>\n",
       "      <td>92807.78</td>\n",
       "      <td>9/26/2019</td>\n",
       "      <td>Games</td>\n",
       "      <td>Hilll-Vandervort</td>\n",
       "      <td>Hube Corey</td>\n",
       "      <td>Wat Bowkley</td>\n",
       "      <td>Mobile</td>\n",
       "      <td>28-6585323</td>\n",
       "    </tr>\n",
       "    <tr>\n",
       "      <th>2</th>\n",
       "      <td>Portugal</td>\n",
       "      <td>296,465.56</td>\n",
       "      <td>257480.34</td>\n",
       "      <td>7/11/2019</td>\n",
       "      <td>Clothing</td>\n",
       "      <td>Larkin-Collier</td>\n",
       "      <td>Celine Tumasian</td>\n",
       "      <td>Smitty Culverhouse</td>\n",
       "      <td>PC</td>\n",
       "      <td>58-7703341</td>\n",
       "    </tr>\n",
       "    <tr>\n",
       "      <th>3</th>\n",
       "      <td>Portugal</td>\n",
       "      <td>74,532.02</td>\n",
       "      <td>59752.32</td>\n",
       "      <td>4/2/2020</td>\n",
       "      <td>Beauty</td>\n",
       "      <td>Hessel-Stiedemann</td>\n",
       "      <td>Celine Tumasian</td>\n",
       "      <td>Aurelie Wren</td>\n",
       "      <td>PC</td>\n",
       "      <td>14-6700183</td>\n",
       "    </tr>\n",
       "    <tr>\n",
       "      <th>4</th>\n",
       "      <td>Spain</td>\n",
       "      <td>178,763.42</td>\n",
       "      <td>146621.76</td>\n",
       "      <td>12/22/2019</td>\n",
       "      <td>Games</td>\n",
       "      <td>Johns and Sons</td>\n",
       "      <td>Emalia Dinse</td>\n",
       "      <td>Bertha Walbrook</td>\n",
       "      <td>Tablet</td>\n",
       "      <td>15-8765160</td>\n",
       "    </tr>\n",
       "    <tr>\n",
       "      <th>...</th>\n",
       "      <td>...</td>\n",
       "      <td>...</td>\n",
       "      <td>...</td>\n",
       "      <td>...</td>\n",
       "      <td>...</td>\n",
       "      <td>...</td>\n",
       "      <td>...</td>\n",
       "      <td>...</td>\n",
       "      <td>...</td>\n",
       "      <td>...</td>\n",
       "    </tr>\n",
       "    <tr>\n",
       "      <th>995</th>\n",
       "      <td>France</td>\n",
       "      <td>46,296.26</td>\n",
       "      <td>40319.41</td>\n",
       "      <td>5/15/2020</td>\n",
       "      <td>Games</td>\n",
       "      <td>Wisoky Inc</td>\n",
       "      <td>Othello Bowes</td>\n",
       "      <td>Amelina Piscopiello</td>\n",
       "      <td>Tablet</td>\n",
       "      <td>77-3489084</td>\n",
       "    </tr>\n",
       "    <tr>\n",
       "      <th>996</th>\n",
       "      <td>Belgium</td>\n",
       "      <td>118,061.05</td>\n",
       "      <td>101131.10</td>\n",
       "      <td>7/2/2020</td>\n",
       "      <td>Appliances</td>\n",
       "      <td>Johns and Sons</td>\n",
       "      <td>Lambert Norheny</td>\n",
       "      <td>Collin Mackness</td>\n",
       "      <td>Mobile</td>\n",
       "      <td>59-2117058</td>\n",
       "    </tr>\n",
       "    <tr>\n",
       "      <th>997</th>\n",
       "      <td>Finland</td>\n",
       "      <td>74,480.56</td>\n",
       "      <td>60023.88</td>\n",
       "      <td>3/6/2020</td>\n",
       "      <td>Clothing</td>\n",
       "      <td>Homenick-Marvin</td>\n",
       "      <td>Hube Corey</td>\n",
       "      <td>Wat Bowkley</td>\n",
       "      <td>PC</td>\n",
       "      <td>31-1849120</td>\n",
       "    </tr>\n",
       "    <tr>\n",
       "      <th>998</th>\n",
       "      <td>Spain</td>\n",
       "      <td>87,205.01</td>\n",
       "      <td>69171.01</td>\n",
       "      <td>6/18/2020</td>\n",
       "      <td>Games</td>\n",
       "      <td>Johns and Sons</td>\n",
       "      <td>Emalia Dinse</td>\n",
       "      <td>Manuel Goudie</td>\n",
       "      <td>Tablet</td>\n",
       "      <td>45-3085595</td>\n",
       "    </tr>\n",
       "    <tr>\n",
       "      <th>999</th>\n",
       "      <td>Portugal</td>\n",
       "      <td>107,716.72</td>\n",
       "      <td>86679.64</td>\n",
       "      <td>1/18/2020</td>\n",
       "      <td>Accessories</td>\n",
       "      <td>Jacobson, Marvin and Brown</td>\n",
       "      <td>Celine Tumasian</td>\n",
       "      <td>Brynn Dempster</td>\n",
       "      <td>Mobile</td>\n",
       "      <td>61-3294149</td>\n",
       "    </tr>\n",
       "  </tbody>\n",
       "</table>\n",
       "<p>1000 rows × 10 columns</p>\n",
       "</div>"
      ],
      "text/plain": [
       "      country  order_value_EUR       cost         date     category  \\\n",
       "0      Sweden         17,524.02   14122.61   2/12/2020        Books   \n",
       "1     Finland        116,563.40   92807.78   9/26/2019        Games   \n",
       "2    Portugal        296,465.56  257480.34   7/11/2019     Clothing   \n",
       "3    Portugal         74,532.02   59752.32    4/2/2020       Beauty   \n",
       "4       Spain        178,763.42  146621.76  12/22/2019        Games   \n",
       "..        ...               ...        ...         ...          ...   \n",
       "995    France         46,296.26   40319.41   5/15/2020        Games   \n",
       "996   Belgium        118,061.05  101131.10    7/2/2020   Appliances   \n",
       "997   Finland         74,480.56   60023.88    3/6/2020     Clothing   \n",
       "998     Spain         87,205.01   69171.01   6/18/2020        Games   \n",
       "999  Portugal        107,716.72   86679.64   1/18/2020  Accessories   \n",
       "\n",
       "                  customer_name    sales_manager            sales_rep  \\\n",
       "0               Goldner-Dibbert     Maxie Marrow        Madelon Bront   \n",
       "1              Hilll-Vandervort       Hube Corey          Wat Bowkley   \n",
       "2                Larkin-Collier  Celine Tumasian   Smitty Culverhouse   \n",
       "3             Hessel-Stiedemann  Celine Tumasian         Aurelie Wren   \n",
       "4                Johns and Sons     Emalia Dinse      Bertha Walbrook   \n",
       "..                          ...              ...                  ...   \n",
       "995                  Wisoky Inc    Othello Bowes  Amelina Piscopiello   \n",
       "996              Johns and Sons  Lambert Norheny      Collin Mackness   \n",
       "997             Homenick-Marvin       Hube Corey          Wat Bowkley   \n",
       "998              Johns and Sons     Emalia Dinse        Manuel Goudie   \n",
       "999  Jacobson, Marvin and Brown  Celine Tumasian       Brynn Dempster   \n",
       "\n",
       "    device_type    order_id  \n",
       "0        Mobile  70-0511466  \n",
       "1        Mobile  28-6585323  \n",
       "2            PC  58-7703341  \n",
       "3            PC  14-6700183  \n",
       "4        Tablet  15-8765160  \n",
       "..          ...         ...  \n",
       "995      Tablet  77-3489084  \n",
       "996      Mobile  59-2117058  \n",
       "997          PC  31-1849120  \n",
       "998      Tablet  45-3085595  \n",
       "999      Mobile  61-3294149  \n",
       "\n",
       "[1000 rows x 10 columns]"
      ]
     },
     "execution_count": 406,
     "metadata": {},
     "output_type": "execute_result"
    }
   ],
   "source": [
    "# load data set\n",
    "train = pd.read_csv(\"Sales.csv\")\n",
    "train"
   ]
  },
  {
   "cell_type": "markdown",
   "id": "badb3a31-19d0-4be9-87f7-d16a3a6ecb2b",
   "metadata": {
    "tags": []
   },
   "source": [
    "## understanding the data"
   ]
  },
  {
   "cell_type": "code",
   "execution_count": 407,
   "id": "3ef2bad8-9560-4a72-ab14-893deb9a9d89",
   "metadata": {},
   "outputs": [
    {
     "name": "stdout",
     "output_type": "stream",
     "text": [
      "<class 'pandas.core.frame.DataFrame'>\n",
      "RangeIndex: 1000 entries, 0 to 999\n",
      "Data columns (total 10 columns):\n",
      " #   Column             Non-Null Count  Dtype  \n",
      "---  ------             --------------  -----  \n",
      " 0   country            1000 non-null   object \n",
      " 1    order_value_EUR   1000 non-null   object \n",
      " 2    cost              1000 non-null   float64\n",
      " 3   date               1000 non-null   object \n",
      " 4   category           1000 non-null   object \n",
      " 5   customer_name      1000 non-null   object \n",
      " 6   sales_manager      1000 non-null   object \n",
      " 7   sales_rep          1000 non-null   object \n",
      " 8   device_type        1000 non-null   object \n",
      " 9   order_id           1000 non-null   object \n",
      "dtypes: float64(1), object(9)\n",
      "memory usage: 78.3+ KB\n"
     ]
    }
   ],
   "source": [
    "## see information about data set\n",
    "train.info()"
   ]
  },
  {
   "cell_type": "code",
   "execution_count": 408,
   "id": "2e0f0e4d-48bd-4aaa-89d9-75cc211583cd",
   "metadata": {
    "tags": []
   },
   "outputs": [
    {
     "data": {
      "text/html": [
       "<div>\n",
       "<style scoped>\n",
       "    .dataframe tbody tr th:only-of-type {\n",
       "        vertical-align: middle;\n",
       "    }\n",
       "\n",
       "    .dataframe tbody tr th {\n",
       "        vertical-align: top;\n",
       "    }\n",
       "\n",
       "    .dataframe thead th {\n",
       "        text-align: right;\n",
       "    }\n",
       "</style>\n",
       "<table border=\"1\" class=\"dataframe\">\n",
       "  <thead>\n",
       "    <tr style=\"text-align: right;\">\n",
       "      <th></th>\n",
       "      <th>country</th>\n",
       "      <th>order_value_EUR</th>\n",
       "      <th>cost</th>\n",
       "      <th>date</th>\n",
       "      <th>category</th>\n",
       "      <th>customer_name</th>\n",
       "      <th>sales_manager</th>\n",
       "      <th>sales_rep</th>\n",
       "      <th>device_type</th>\n",
       "      <th>order_id</th>\n",
       "    </tr>\n",
       "  </thead>\n",
       "  <tbody>\n",
       "    <tr>\n",
       "      <th>0</th>\n",
       "      <td>Sweden</td>\n",
       "      <td>17,524.02</td>\n",
       "      <td>14122.61</td>\n",
       "      <td>2/12/2020</td>\n",
       "      <td>Books</td>\n",
       "      <td>Goldner-Dibbert</td>\n",
       "      <td>Maxie Marrow</td>\n",
       "      <td>Madelon Bront</td>\n",
       "      <td>Mobile</td>\n",
       "      <td>70-0511466</td>\n",
       "    </tr>\n",
       "    <tr>\n",
       "      <th>1</th>\n",
       "      <td>Finland</td>\n",
       "      <td>116,563.40</td>\n",
       "      <td>92807.78</td>\n",
       "      <td>9/26/2019</td>\n",
       "      <td>Games</td>\n",
       "      <td>Hilll-Vandervort</td>\n",
       "      <td>Hube Corey</td>\n",
       "      <td>Wat Bowkley</td>\n",
       "      <td>Mobile</td>\n",
       "      <td>28-6585323</td>\n",
       "    </tr>\n",
       "    <tr>\n",
       "      <th>2</th>\n",
       "      <td>Portugal</td>\n",
       "      <td>296,465.56</td>\n",
       "      <td>257480.34</td>\n",
       "      <td>7/11/2019</td>\n",
       "      <td>Clothing</td>\n",
       "      <td>Larkin-Collier</td>\n",
       "      <td>Celine Tumasian</td>\n",
       "      <td>Smitty Culverhouse</td>\n",
       "      <td>PC</td>\n",
       "      <td>58-7703341</td>\n",
       "    </tr>\n",
       "    <tr>\n",
       "      <th>3</th>\n",
       "      <td>Portugal</td>\n",
       "      <td>74,532.02</td>\n",
       "      <td>59752.32</td>\n",
       "      <td>4/2/2020</td>\n",
       "      <td>Beauty</td>\n",
       "      <td>Hessel-Stiedemann</td>\n",
       "      <td>Celine Tumasian</td>\n",
       "      <td>Aurelie Wren</td>\n",
       "      <td>PC</td>\n",
       "      <td>14-6700183</td>\n",
       "    </tr>\n",
       "    <tr>\n",
       "      <th>4</th>\n",
       "      <td>Spain</td>\n",
       "      <td>178,763.42</td>\n",
       "      <td>146621.76</td>\n",
       "      <td>12/22/2019</td>\n",
       "      <td>Games</td>\n",
       "      <td>Johns and Sons</td>\n",
       "      <td>Emalia Dinse</td>\n",
       "      <td>Bertha Walbrook</td>\n",
       "      <td>Tablet</td>\n",
       "      <td>15-8765160</td>\n",
       "    </tr>\n",
       "  </tbody>\n",
       "</table>\n",
       "</div>"
      ],
      "text/plain": [
       "    country  order_value_EUR       cost         date  category  \\\n",
       "0    Sweden         17,524.02   14122.61   2/12/2020     Books   \n",
       "1   Finland        116,563.40   92807.78   9/26/2019     Games   \n",
       "2  Portugal        296,465.56  257480.34   7/11/2019  Clothing   \n",
       "3  Portugal         74,532.02   59752.32    4/2/2020    Beauty   \n",
       "4     Spain        178,763.42  146621.76  12/22/2019     Games   \n",
       "\n",
       "       customer_name    sales_manager           sales_rep device_type  \\\n",
       "0    Goldner-Dibbert     Maxie Marrow       Madelon Bront      Mobile   \n",
       "1   Hilll-Vandervort       Hube Corey         Wat Bowkley      Mobile   \n",
       "2     Larkin-Collier  Celine Tumasian  Smitty Culverhouse          PC   \n",
       "3  Hessel-Stiedemann  Celine Tumasian        Aurelie Wren          PC   \n",
       "4     Johns and Sons     Emalia Dinse     Bertha Walbrook      Tablet   \n",
       "\n",
       "     order_id  \n",
       "0  70-0511466  \n",
       "1  28-6585323  \n",
       "2  58-7703341  \n",
       "3  14-6700183  \n",
       "4  15-8765160  "
      ]
     },
     "execution_count": 408,
     "metadata": {},
     "output_type": "execute_result"
    }
   ],
   "source": [
    "## see head of data\n",
    "train.head()"
   ]
  },
  {
   "cell_type": "code",
   "execution_count": 409,
   "id": "6a0ead43-5d9c-4f05-84e5-04a5908b6022",
   "metadata": {
    "tags": []
   },
   "outputs": [
    {
     "data": {
      "text/html": [
       "<div>\n",
       "<style scoped>\n",
       "    .dataframe tbody tr th:only-of-type {\n",
       "        vertical-align: middle;\n",
       "    }\n",
       "\n",
       "    .dataframe tbody tr th {\n",
       "        vertical-align: top;\n",
       "    }\n",
       "\n",
       "    .dataframe thead th {\n",
       "        text-align: right;\n",
       "    }\n",
       "</style>\n",
       "<table border=\"1\" class=\"dataframe\">\n",
       "  <thead>\n",
       "    <tr style=\"text-align: right;\">\n",
       "      <th></th>\n",
       "      <th>country</th>\n",
       "      <th>order_value_EUR</th>\n",
       "      <th>cost</th>\n",
       "      <th>date</th>\n",
       "      <th>category</th>\n",
       "      <th>customer_name</th>\n",
       "      <th>sales_manager</th>\n",
       "      <th>sales_rep</th>\n",
       "      <th>device_type</th>\n",
       "      <th>order_id</th>\n",
       "    </tr>\n",
       "  </thead>\n",
       "  <tbody>\n",
       "    <tr>\n",
       "      <th>995</th>\n",
       "      <td>France</td>\n",
       "      <td>46,296.26</td>\n",
       "      <td>40319.41</td>\n",
       "      <td>5/15/2020</td>\n",
       "      <td>Games</td>\n",
       "      <td>Wisoky Inc</td>\n",
       "      <td>Othello Bowes</td>\n",
       "      <td>Amelina Piscopiello</td>\n",
       "      <td>Tablet</td>\n",
       "      <td>77-3489084</td>\n",
       "    </tr>\n",
       "    <tr>\n",
       "      <th>996</th>\n",
       "      <td>Belgium</td>\n",
       "      <td>118,061.05</td>\n",
       "      <td>101131.10</td>\n",
       "      <td>7/2/2020</td>\n",
       "      <td>Appliances</td>\n",
       "      <td>Johns and Sons</td>\n",
       "      <td>Lambert Norheny</td>\n",
       "      <td>Collin Mackness</td>\n",
       "      <td>Mobile</td>\n",
       "      <td>59-2117058</td>\n",
       "    </tr>\n",
       "    <tr>\n",
       "      <th>997</th>\n",
       "      <td>Finland</td>\n",
       "      <td>74,480.56</td>\n",
       "      <td>60023.88</td>\n",
       "      <td>3/6/2020</td>\n",
       "      <td>Clothing</td>\n",
       "      <td>Homenick-Marvin</td>\n",
       "      <td>Hube Corey</td>\n",
       "      <td>Wat Bowkley</td>\n",
       "      <td>PC</td>\n",
       "      <td>31-1849120</td>\n",
       "    </tr>\n",
       "    <tr>\n",
       "      <th>998</th>\n",
       "      <td>Spain</td>\n",
       "      <td>87,205.01</td>\n",
       "      <td>69171.01</td>\n",
       "      <td>6/18/2020</td>\n",
       "      <td>Games</td>\n",
       "      <td>Johns and Sons</td>\n",
       "      <td>Emalia Dinse</td>\n",
       "      <td>Manuel Goudie</td>\n",
       "      <td>Tablet</td>\n",
       "      <td>45-3085595</td>\n",
       "    </tr>\n",
       "    <tr>\n",
       "      <th>999</th>\n",
       "      <td>Portugal</td>\n",
       "      <td>107,716.72</td>\n",
       "      <td>86679.64</td>\n",
       "      <td>1/18/2020</td>\n",
       "      <td>Accessories</td>\n",
       "      <td>Jacobson, Marvin and Brown</td>\n",
       "      <td>Celine Tumasian</td>\n",
       "      <td>Brynn Dempster</td>\n",
       "      <td>Mobile</td>\n",
       "      <td>61-3294149</td>\n",
       "    </tr>\n",
       "  </tbody>\n",
       "</table>\n",
       "</div>"
      ],
      "text/plain": [
       "      country  order_value_EUR       cost        date     category  \\\n",
       "995    France         46,296.26   40319.41  5/15/2020        Games   \n",
       "996   Belgium        118,061.05  101131.10   7/2/2020   Appliances   \n",
       "997   Finland         74,480.56   60023.88   3/6/2020     Clothing   \n",
       "998     Spain         87,205.01   69171.01  6/18/2020        Games   \n",
       "999  Portugal        107,716.72   86679.64  1/18/2020  Accessories   \n",
       "\n",
       "                  customer_name    sales_manager            sales_rep  \\\n",
       "995                  Wisoky Inc    Othello Bowes  Amelina Piscopiello   \n",
       "996              Johns and Sons  Lambert Norheny      Collin Mackness   \n",
       "997             Homenick-Marvin       Hube Corey          Wat Bowkley   \n",
       "998              Johns and Sons     Emalia Dinse        Manuel Goudie   \n",
       "999  Jacobson, Marvin and Brown  Celine Tumasian       Brynn Dempster   \n",
       "\n",
       "    device_type    order_id  \n",
       "995      Tablet  77-3489084  \n",
       "996      Mobile  59-2117058  \n",
       "997          PC  31-1849120  \n",
       "998      Tablet  45-3085595  \n",
       "999      Mobile  61-3294149  "
      ]
     },
     "execution_count": 409,
     "metadata": {},
     "output_type": "execute_result"
    }
   ],
   "source": [
    "## see tail of data\n",
    "train.tail()"
   ]
  },
  {
   "cell_type": "code",
   "execution_count": 410,
   "id": "85336c62-3caf-4dc9-8aa0-6d048d45a140",
   "metadata": {
    "tags": []
   },
   "outputs": [
    {
     "data": {
      "text/plain": [
       "Index(['country', ' order_value_EUR ', ' cost ', 'date', 'category',\n",
       "       'customer_name', 'sales_manager', 'sales_rep', 'device_type',\n",
       "       'order_id'],\n",
       "      dtype='object')"
      ]
     },
     "execution_count": 410,
     "metadata": {},
     "output_type": "execute_result"
    }
   ],
   "source": [
    "## see names of colunm\n",
    "train.columns"
   ]
  },
  {
   "cell_type": "code",
   "execution_count": 411,
   "id": "afca0c1b-2e80-4507-9fb5-a39e0fde7c74",
   "metadata": {
    "tags": []
   },
   "outputs": [
    {
     "data": {
      "text/plain": [
       "country               object\n",
       " order_value_EUR      object\n",
       " cost                float64\n",
       "date                  object\n",
       "category              object\n",
       "customer_name         object\n",
       "sales_manager         object\n",
       "sales_rep             object\n",
       "device_type           object\n",
       "order_id              object\n",
       "dtype: object"
      ]
     },
     "execution_count": 411,
     "metadata": {},
     "output_type": "execute_result"
    }
   ],
   "source": [
    "## see data type of colunm\n",
    "train.dtypes"
   ]
  },
  {
   "cell_type": "code",
   "execution_count": 412,
   "id": "0a01e4b0-6da4-4cdb-addd-fbe7a047198e",
   "metadata": {
    "tags": []
   },
   "outputs": [
    {
     "data": {
      "text/plain": [
       "(1000, 10)"
      ]
     },
     "execution_count": 412,
     "metadata": {},
     "output_type": "execute_result"
    }
   ],
   "source": [
    "## see shape of data\n",
    "train.shape"
   ]
  },
  {
   "cell_type": "code",
   "execution_count": 413,
   "id": "94938423-77f5-444f-a90b-cfdaa3493370",
   "metadata": {
    "tags": []
   },
   "outputs": [
    {
     "data": {
      "text/plain": [
       "country                15\n",
       " order_value_EUR     1000\n",
       " cost                1000\n",
       "date                  536\n",
       "category               10\n",
       "customer_name          75\n",
       "sales_manager          15\n",
       "sales_rep              35\n",
       "device_type             3\n",
       "order_id             1000\n",
       "dtype: int64"
      ]
     },
     "execution_count": 413,
     "metadata": {},
     "output_type": "execute_result"
    }
   ],
   "source": [
    "## see uniques values of data\n",
    "train.nunique()"
   ]
  },
  {
   "cell_type": "code",
   "execution_count": 414,
   "id": "b27ec7d9-25fa-4828-a6c8-3ff0166d9f77",
   "metadata": {
    "tags": []
   },
   "outputs": [
    {
     "name": "stdout",
     "output_type": "stream",
     "text": [
      "country --> {'Portugal': 239, 'France': 232, 'Sweden': 182, 'UK': 101, 'Finland': 44, 'Ireland': 43, 'Bulgaria': 30, 'Netherlands': 28, 'Spain': 26, 'Germany': 24, 'Luxembourg': 22, 'Denmark': 11, 'Italy': 10, 'Belgium': 6, 'Austria': 2}\n",
      "category --> {'Clothing': 155, 'Games': 139, 'Electronics': 134, 'Appliances': 131, 'Books': 117, 'Beauty': 115, 'Smartphones': 95, 'Outdoors': 50, 'Accessories': 35, 'Other': 29}\n",
      "device_type --> {'PC': 785, 'Mobile': 142, 'Tablet': 73}\n"
     ]
    }
   ],
   "source": [
    "## see unieues values of important colunm\n",
    "for i in train.columns:\n",
    "    if(i==\"country\" or i==\"category\" or i==\"device_type\"):\n",
    "        print(i,\"-->\",dict(train[i].value_counts()))"
   ]
  },
  {
   "cell_type": "markdown",
   "id": "c45c264e-7ff9-4135-be35-a6b8bf27500e",
   "metadata": {
    "tags": []
   },
   "source": [
    "## Data Cleaning"
   ]
  },
  {
   "cell_type": "code",
   "execution_count": 415,
   "id": "25eea886-3c22-4077-8cf2-43b6dc2fbf9c",
   "metadata": {
    "tags": []
   },
   "outputs": [],
   "source": [
    "train = train.rename(columns={' cost ': 'cost',' order_value_EUR ':'sale'})"
   ]
  },
  {
   "cell_type": "code",
   "execution_count": 416,
   "id": "53a5dc79-0778-45b9-84a8-008f4f138356",
   "metadata": {},
   "outputs": [
    {
     "data": {
      "text/html": [
       "<div>\n",
       "<style scoped>\n",
       "    .dataframe tbody tr th:only-of-type {\n",
       "        vertical-align: middle;\n",
       "    }\n",
       "\n",
       "    .dataframe tbody tr th {\n",
       "        vertical-align: top;\n",
       "    }\n",
       "\n",
       "    .dataframe thead th {\n",
       "        text-align: right;\n",
       "    }\n",
       "</style>\n",
       "<table border=\"1\" class=\"dataframe\">\n",
       "  <thead>\n",
       "    <tr style=\"text-align: right;\">\n",
       "      <th></th>\n",
       "      <th>country</th>\n",
       "      <th>sale</th>\n",
       "      <th>cost</th>\n",
       "      <th>date</th>\n",
       "      <th>category</th>\n",
       "      <th>customer_name</th>\n",
       "      <th>sales_manager</th>\n",
       "      <th>sales_rep</th>\n",
       "      <th>device_type</th>\n",
       "      <th>order_id</th>\n",
       "    </tr>\n",
       "  </thead>\n",
       "  <tbody>\n",
       "    <tr>\n",
       "      <th>0</th>\n",
       "      <td>False</td>\n",
       "      <td>False</td>\n",
       "      <td>False</td>\n",
       "      <td>False</td>\n",
       "      <td>False</td>\n",
       "      <td>False</td>\n",
       "      <td>False</td>\n",
       "      <td>False</td>\n",
       "      <td>False</td>\n",
       "      <td>False</td>\n",
       "    </tr>\n",
       "    <tr>\n",
       "      <th>1</th>\n",
       "      <td>False</td>\n",
       "      <td>False</td>\n",
       "      <td>False</td>\n",
       "      <td>False</td>\n",
       "      <td>False</td>\n",
       "      <td>False</td>\n",
       "      <td>False</td>\n",
       "      <td>False</td>\n",
       "      <td>False</td>\n",
       "      <td>False</td>\n",
       "    </tr>\n",
       "    <tr>\n",
       "      <th>2</th>\n",
       "      <td>False</td>\n",
       "      <td>False</td>\n",
       "      <td>False</td>\n",
       "      <td>False</td>\n",
       "      <td>False</td>\n",
       "      <td>False</td>\n",
       "      <td>False</td>\n",
       "      <td>False</td>\n",
       "      <td>False</td>\n",
       "      <td>False</td>\n",
       "    </tr>\n",
       "    <tr>\n",
       "      <th>3</th>\n",
       "      <td>False</td>\n",
       "      <td>False</td>\n",
       "      <td>False</td>\n",
       "      <td>False</td>\n",
       "      <td>False</td>\n",
       "      <td>False</td>\n",
       "      <td>False</td>\n",
       "      <td>False</td>\n",
       "      <td>False</td>\n",
       "      <td>False</td>\n",
       "    </tr>\n",
       "    <tr>\n",
       "      <th>4</th>\n",
       "      <td>False</td>\n",
       "      <td>False</td>\n",
       "      <td>False</td>\n",
       "      <td>False</td>\n",
       "      <td>False</td>\n",
       "      <td>False</td>\n",
       "      <td>False</td>\n",
       "      <td>False</td>\n",
       "      <td>False</td>\n",
       "      <td>False</td>\n",
       "    </tr>\n",
       "    <tr>\n",
       "      <th>...</th>\n",
       "      <td>...</td>\n",
       "      <td>...</td>\n",
       "      <td>...</td>\n",
       "      <td>...</td>\n",
       "      <td>...</td>\n",
       "      <td>...</td>\n",
       "      <td>...</td>\n",
       "      <td>...</td>\n",
       "      <td>...</td>\n",
       "      <td>...</td>\n",
       "    </tr>\n",
       "    <tr>\n",
       "      <th>995</th>\n",
       "      <td>False</td>\n",
       "      <td>False</td>\n",
       "      <td>False</td>\n",
       "      <td>False</td>\n",
       "      <td>False</td>\n",
       "      <td>False</td>\n",
       "      <td>False</td>\n",
       "      <td>False</td>\n",
       "      <td>False</td>\n",
       "      <td>False</td>\n",
       "    </tr>\n",
       "    <tr>\n",
       "      <th>996</th>\n",
       "      <td>False</td>\n",
       "      <td>False</td>\n",
       "      <td>False</td>\n",
       "      <td>False</td>\n",
       "      <td>False</td>\n",
       "      <td>False</td>\n",
       "      <td>False</td>\n",
       "      <td>False</td>\n",
       "      <td>False</td>\n",
       "      <td>False</td>\n",
       "    </tr>\n",
       "    <tr>\n",
       "      <th>997</th>\n",
       "      <td>False</td>\n",
       "      <td>False</td>\n",
       "      <td>False</td>\n",
       "      <td>False</td>\n",
       "      <td>False</td>\n",
       "      <td>False</td>\n",
       "      <td>False</td>\n",
       "      <td>False</td>\n",
       "      <td>False</td>\n",
       "      <td>False</td>\n",
       "    </tr>\n",
       "    <tr>\n",
       "      <th>998</th>\n",
       "      <td>False</td>\n",
       "      <td>False</td>\n",
       "      <td>False</td>\n",
       "      <td>False</td>\n",
       "      <td>False</td>\n",
       "      <td>False</td>\n",
       "      <td>False</td>\n",
       "      <td>False</td>\n",
       "      <td>False</td>\n",
       "      <td>False</td>\n",
       "    </tr>\n",
       "    <tr>\n",
       "      <th>999</th>\n",
       "      <td>False</td>\n",
       "      <td>False</td>\n",
       "      <td>False</td>\n",
       "      <td>False</td>\n",
       "      <td>False</td>\n",
       "      <td>False</td>\n",
       "      <td>False</td>\n",
       "      <td>False</td>\n",
       "      <td>False</td>\n",
       "      <td>False</td>\n",
       "    </tr>\n",
       "  </tbody>\n",
       "</table>\n",
       "<p>1000 rows × 10 columns</p>\n",
       "</div>"
      ],
      "text/plain": [
       "     country   sale   cost   date  category  customer_name  sales_manager  \\\n",
       "0      False  False  False  False     False          False          False   \n",
       "1      False  False  False  False     False          False          False   \n",
       "2      False  False  False  False     False          False          False   \n",
       "3      False  False  False  False     False          False          False   \n",
       "4      False  False  False  False     False          False          False   \n",
       "..       ...    ...    ...    ...       ...            ...            ...   \n",
       "995    False  False  False  False     False          False          False   \n",
       "996    False  False  False  False     False          False          False   \n",
       "997    False  False  False  False     False          False          False   \n",
       "998    False  False  False  False     False          False          False   \n",
       "999    False  False  False  False     False          False          False   \n",
       "\n",
       "     sales_rep  device_type  order_id  \n",
       "0        False        False     False  \n",
       "1        False        False     False  \n",
       "2        False        False     False  \n",
       "3        False        False     False  \n",
       "4        False        False     False  \n",
       "..         ...          ...       ...  \n",
       "995      False        False     False  \n",
       "996      False        False     False  \n",
       "997      False        False     False  \n",
       "998      False        False     False  \n",
       "999      False        False     False  \n",
       "\n",
       "[1000 rows x 10 columns]"
      ]
     },
     "execution_count": 416,
     "metadata": {},
     "output_type": "execute_result"
    }
   ],
   "source": [
    "## see missing values in data set\n",
    "train.isnull()"
   ]
  },
  {
   "cell_type": "code",
   "execution_count": 417,
   "id": "0cdfedaf-106b-4fd3-b0ea-39354410d646",
   "metadata": {
    "tags": []
   },
   "outputs": [
    {
     "data": {
      "text/html": [
       "<div>\n",
       "<style scoped>\n",
       "    .dataframe tbody tr th:only-of-type {\n",
       "        vertical-align: middle;\n",
       "    }\n",
       "\n",
       "    .dataframe tbody tr th {\n",
       "        vertical-align: top;\n",
       "    }\n",
       "\n",
       "    .dataframe thead th {\n",
       "        text-align: right;\n",
       "    }\n",
       "</style>\n",
       "<table border=\"1\" class=\"dataframe\">\n",
       "  <thead>\n",
       "    <tr style=\"text-align: right;\">\n",
       "      <th></th>\n",
       "      <th>country</th>\n",
       "      <th>sale</th>\n",
       "      <th>cost</th>\n",
       "      <th>date</th>\n",
       "      <th>category</th>\n",
       "      <th>customer_name</th>\n",
       "      <th>sales_manager</th>\n",
       "      <th>sales_rep</th>\n",
       "      <th>device_type</th>\n",
       "      <th>order_id</th>\n",
       "    </tr>\n",
       "  </thead>\n",
       "  <tbody>\n",
       "    <tr>\n",
       "      <th>0</th>\n",
       "      <td>False</td>\n",
       "      <td>False</td>\n",
       "      <td>False</td>\n",
       "      <td>False</td>\n",
       "      <td>False</td>\n",
       "      <td>False</td>\n",
       "      <td>False</td>\n",
       "      <td>False</td>\n",
       "      <td>False</td>\n",
       "      <td>False</td>\n",
       "    </tr>\n",
       "    <tr>\n",
       "      <th>1</th>\n",
       "      <td>False</td>\n",
       "      <td>False</td>\n",
       "      <td>False</td>\n",
       "      <td>False</td>\n",
       "      <td>False</td>\n",
       "      <td>False</td>\n",
       "      <td>False</td>\n",
       "      <td>False</td>\n",
       "      <td>False</td>\n",
       "      <td>False</td>\n",
       "    </tr>\n",
       "    <tr>\n",
       "      <th>2</th>\n",
       "      <td>False</td>\n",
       "      <td>False</td>\n",
       "      <td>False</td>\n",
       "      <td>False</td>\n",
       "      <td>False</td>\n",
       "      <td>False</td>\n",
       "      <td>False</td>\n",
       "      <td>False</td>\n",
       "      <td>False</td>\n",
       "      <td>False</td>\n",
       "    </tr>\n",
       "    <tr>\n",
       "      <th>3</th>\n",
       "      <td>False</td>\n",
       "      <td>False</td>\n",
       "      <td>False</td>\n",
       "      <td>False</td>\n",
       "      <td>False</td>\n",
       "      <td>False</td>\n",
       "      <td>False</td>\n",
       "      <td>False</td>\n",
       "      <td>False</td>\n",
       "      <td>False</td>\n",
       "    </tr>\n",
       "    <tr>\n",
       "      <th>4</th>\n",
       "      <td>False</td>\n",
       "      <td>False</td>\n",
       "      <td>False</td>\n",
       "      <td>False</td>\n",
       "      <td>False</td>\n",
       "      <td>False</td>\n",
       "      <td>False</td>\n",
       "      <td>False</td>\n",
       "      <td>False</td>\n",
       "      <td>False</td>\n",
       "    </tr>\n",
       "    <tr>\n",
       "      <th>...</th>\n",
       "      <td>...</td>\n",
       "      <td>...</td>\n",
       "      <td>...</td>\n",
       "      <td>...</td>\n",
       "      <td>...</td>\n",
       "      <td>...</td>\n",
       "      <td>...</td>\n",
       "      <td>...</td>\n",
       "      <td>...</td>\n",
       "      <td>...</td>\n",
       "    </tr>\n",
       "    <tr>\n",
       "      <th>995</th>\n",
       "      <td>False</td>\n",
       "      <td>False</td>\n",
       "      <td>False</td>\n",
       "      <td>False</td>\n",
       "      <td>False</td>\n",
       "      <td>False</td>\n",
       "      <td>False</td>\n",
       "      <td>False</td>\n",
       "      <td>False</td>\n",
       "      <td>False</td>\n",
       "    </tr>\n",
       "    <tr>\n",
       "      <th>996</th>\n",
       "      <td>False</td>\n",
       "      <td>False</td>\n",
       "      <td>False</td>\n",
       "      <td>False</td>\n",
       "      <td>False</td>\n",
       "      <td>False</td>\n",
       "      <td>False</td>\n",
       "      <td>False</td>\n",
       "      <td>False</td>\n",
       "      <td>False</td>\n",
       "    </tr>\n",
       "    <tr>\n",
       "      <th>997</th>\n",
       "      <td>False</td>\n",
       "      <td>False</td>\n",
       "      <td>False</td>\n",
       "      <td>False</td>\n",
       "      <td>False</td>\n",
       "      <td>False</td>\n",
       "      <td>False</td>\n",
       "      <td>False</td>\n",
       "      <td>False</td>\n",
       "      <td>False</td>\n",
       "    </tr>\n",
       "    <tr>\n",
       "      <th>998</th>\n",
       "      <td>False</td>\n",
       "      <td>False</td>\n",
       "      <td>False</td>\n",
       "      <td>False</td>\n",
       "      <td>False</td>\n",
       "      <td>False</td>\n",
       "      <td>False</td>\n",
       "      <td>False</td>\n",
       "      <td>False</td>\n",
       "      <td>False</td>\n",
       "    </tr>\n",
       "    <tr>\n",
       "      <th>999</th>\n",
       "      <td>False</td>\n",
       "      <td>False</td>\n",
       "      <td>False</td>\n",
       "      <td>False</td>\n",
       "      <td>False</td>\n",
       "      <td>False</td>\n",
       "      <td>False</td>\n",
       "      <td>False</td>\n",
       "      <td>False</td>\n",
       "      <td>False</td>\n",
       "    </tr>\n",
       "  </tbody>\n",
       "</table>\n",
       "<p>1000 rows × 10 columns</p>\n",
       "</div>"
      ],
      "text/plain": [
       "     country   sale   cost   date  category  customer_name  sales_manager  \\\n",
       "0      False  False  False  False     False          False          False   \n",
       "1      False  False  False  False     False          False          False   \n",
       "2      False  False  False  False     False          False          False   \n",
       "3      False  False  False  False     False          False          False   \n",
       "4      False  False  False  False     False          False          False   \n",
       "..       ...    ...    ...    ...       ...            ...            ...   \n",
       "995    False  False  False  False     False          False          False   \n",
       "996    False  False  False  False     False          False          False   \n",
       "997    False  False  False  False     False          False          False   \n",
       "998    False  False  False  False     False          False          False   \n",
       "999    False  False  False  False     False          False          False   \n",
       "\n",
       "     sales_rep  device_type  order_id  \n",
       "0        False        False     False  \n",
       "1        False        False     False  \n",
       "2        False        False     False  \n",
       "3        False        False     False  \n",
       "4        False        False     False  \n",
       "..         ...          ...       ...  \n",
       "995      False        False     False  \n",
       "996      False        False     False  \n",
       "997      False        False     False  \n",
       "998      False        False     False  \n",
       "999      False        False     False  \n",
       "\n",
       "[1000 rows x 10 columns]"
      ]
     },
     "execution_count": 417,
     "metadata": {},
     "output_type": "execute_result"
    }
   ],
   "source": [
    "## see missing values in data set\n",
    "train.isna()"
   ]
  },
  {
   "cell_type": "code",
   "execution_count": 418,
   "id": "0c77e494-ef63-40a8-b8ec-55366a5e5df7",
   "metadata": {
    "tags": []
   },
   "outputs": [
    {
     "data": {
      "text/plain": [
       "country          0\n",
       "sale             0\n",
       "cost             0\n",
       "date             0\n",
       "category         0\n",
       "customer_name    0\n",
       "sales_manager    0\n",
       "sales_rep        0\n",
       "device_type      0\n",
       "order_id         0\n",
       "dtype: int64"
      ]
     },
     "execution_count": 418,
     "metadata": {},
     "output_type": "execute_result"
    }
   ],
   "source": [
    "## see missing values in data set\n",
    "train.isnull().sum()"
   ]
  },
  {
   "cell_type": "code",
   "execution_count": 419,
   "id": "157f90a2-bc00-406f-8cb4-1635439824bd",
   "metadata": {
    "tags": []
   },
   "outputs": [],
   "source": [
    "## remove useless colunm\n",
    "train = train.drop([\"order_id\",\"customer_name\",\"sales_rep\"],axis=1)"
   ]
  },
  {
   "cell_type": "code",
   "execution_count": 420,
   "id": "b78889a4-eaa5-4165-8d97-a5acb70e3a5d",
   "metadata": {
    "tags": []
   },
   "outputs": [
    {
     "data": {
      "text/plain": [
       "Index(['country', 'sale', 'cost', 'date', 'category', 'sales_manager',\n",
       "       'device_type'],\n",
       "      dtype='object')"
      ]
     },
     "execution_count": 420,
     "metadata": {},
     "output_type": "execute_result"
    }
   ],
   "source": [
    "## see colunm names\n",
    "train.columns"
   ]
  },
  {
   "cell_type": "code",
   "execution_count": 421,
   "id": "bb5dcc55-f7a8-4226-8527-ad411a2b2367",
   "metadata": {
    "tags": []
   },
   "outputs": [],
   "source": [
    "## edit date yo Data-Time Series\n",
    "train.date = pd.to_datetime(train.date)"
   ]
  },
  {
   "cell_type": "code",
   "execution_count": 422,
   "id": "83a45949-5631-4833-a069-4ea8e606b758",
   "metadata": {},
   "outputs": [],
   "source": [
    "# edit order_value_EUR to float values\n",
    "train['sale']=train['sale'].str.replace(',','')\n",
    "train['sale'] = train['sale'].astype(float)"
   ]
  },
  {
   "cell_type": "code",
   "execution_count": 423,
   "id": "d79cd151-8c53-48fb-9f63-3dd3d9002f01",
   "metadata": {
    "tags": []
   },
   "outputs": [
    {
     "data": {
      "text/plain": [
       "country                  object\n",
       "sale                    float64\n",
       "cost                    float64\n",
       "date             datetime64[ns]\n",
       "category                 object\n",
       "sales_manager            object\n",
       "device_type              object\n",
       "dtype: object"
      ]
     },
     "execution_count": 423,
     "metadata": {},
     "output_type": "execute_result"
    }
   ],
   "source": [
    "## dtypes after cleanning of data\n",
    "train.dtypes"
   ]
  },
  {
   "cell_type": "code",
   "execution_count": 424,
   "id": "f28e2307-8fa9-4a27-acae-2cd8188c5162",
   "metadata": {
    "tags": []
   },
   "outputs": [
    {
     "data": {
      "text/plain": [
       "113361739.0"
      ]
     },
     "execution_count": 424,
     "metadata": {},
     "output_type": "execute_result"
    }
   ],
   "source": [
    "#totale sales\n",
    "total_sales=train[\"sale\"].sum()\n",
    "total_sales.round()"
   ]
  },
  {
   "cell_type": "code",
   "execution_count": 425,
   "id": "89b0e2a3-57ef-4988-8594-91f924f71293",
   "metadata": {
    "tags": []
   },
   "outputs": [
    {
     "data": {
      "text/plain": [
       "94369311.0"
      ]
     },
     "execution_count": 425,
     "metadata": {},
     "output_type": "execute_result"
    }
   ],
   "source": [
    "#totale cost\n",
    "total_cost=train[\"cost\"].sum()\n",
    "total_cost.round()"
   ]
  },
  {
   "cell_type": "code",
   "execution_count": 426,
   "id": "e06d75d8-eb54-4835-b66b-98cb92ff6836",
   "metadata": {
    "tags": []
   },
   "outputs": [
    {
     "data": {
      "text/plain": [
       "18992428.0"
      ]
     },
     "execution_count": 426,
     "metadata": {},
     "output_type": "execute_result"
    }
   ],
   "source": [
    "#total_profit\n",
    "total_profit= total_sales - total_cost\n",
    "total_profit.round()"
   ]
  },
  {
   "cell_type": "code",
   "execution_count": 427,
   "id": "fa9598f3-9ad4-41c2-9b34-13ee92a00228",
   "metadata": {
    "tags": []
   },
   "outputs": [
    {
     "data": {
      "text/plain": [
       "16.75382535247283"
      ]
     },
     "execution_count": 427,
     "metadata": {},
     "output_type": "execute_result"
    }
   ],
   "source": [
    "#sales margin\n",
    "sales_margin = ((total_sales - total_cost) / total_sales ) * 100\n",
    "sales_margin"
   ]
  },
  {
   "cell_type": "code",
   "execution_count": 428,
   "id": "0213bd5f-72bc-494d-97eb-1b819476af03",
   "metadata": {
    "tags": []
   },
   "outputs": [],
   "source": [
    "train['profit'] = train['sale'] - train['cost']"
   ]
  },
  {
   "cell_type": "code",
   "execution_count": 429,
   "id": "e23d48e5-050c-4aeb-8e61-cfb6e30b8934",
   "metadata": {
    "tags": []
   },
   "outputs": [
    {
     "data": {
      "text/html": [
       "<div>\n",
       "<style scoped>\n",
       "    .dataframe tbody tr th:only-of-type {\n",
       "        vertical-align: middle;\n",
       "    }\n",
       "\n",
       "    .dataframe tbody tr th {\n",
       "        vertical-align: top;\n",
       "    }\n",
       "\n",
       "    .dataframe thead th {\n",
       "        text-align: right;\n",
       "    }\n",
       "</style>\n",
       "<table border=\"1\" class=\"dataframe\">\n",
       "  <thead>\n",
       "    <tr style=\"text-align: right;\">\n",
       "      <th></th>\n",
       "      <th>sale</th>\n",
       "      <th>cost</th>\n",
       "      <th>profit</th>\n",
       "    </tr>\n",
       "  </thead>\n",
       "  <tbody>\n",
       "    <tr>\n",
       "      <th>count</th>\n",
       "      <td>1000.000000</td>\n",
       "      <td>1000.000000</td>\n",
       "      <td>1000.000000</td>\n",
       "    </tr>\n",
       "    <tr>\n",
       "      <th>mean</th>\n",
       "      <td>113361.738710</td>\n",
       "      <td>94369.310990</td>\n",
       "      <td>18992.427720</td>\n",
       "    </tr>\n",
       "    <tr>\n",
       "      <th>std</th>\n",
       "      <td>61775.335675</td>\n",
       "      <td>51540.020934</td>\n",
       "      <td>10917.650434</td>\n",
       "    </tr>\n",
       "    <tr>\n",
       "      <th>min</th>\n",
       "      <td>15100.570000</td>\n",
       "      <td>12113.680000</td>\n",
       "      <td>2073.610000</td>\n",
       "    </tr>\n",
       "    <tr>\n",
       "      <th>25%</th>\n",
       "      <td>65310.862500</td>\n",
       "      <td>54247.957500</td>\n",
       "      <td>10746.402500</td>\n",
       "    </tr>\n",
       "    <tr>\n",
       "      <th>50%</th>\n",
       "      <td>105419.425000</td>\n",
       "      <td>87094.760000</td>\n",
       "      <td>17331.830000</td>\n",
       "    </tr>\n",
       "    <tr>\n",
       "      <th>75%</th>\n",
       "      <td>151192.642500</td>\n",
       "      <td>125570.837500</td>\n",
       "      <td>25205.325000</td>\n",
       "    </tr>\n",
       "    <tr>\n",
       "      <th>max</th>\n",
       "      <td>383996.760000</td>\n",
       "      <td>304701.430000</td>\n",
       "      <td>79295.330000</td>\n",
       "    </tr>\n",
       "  </tbody>\n",
       "</table>\n",
       "</div>"
      ],
      "text/plain": [
       "                sale           cost        profit\n",
       "count    1000.000000    1000.000000   1000.000000\n",
       "mean   113361.738710   94369.310990  18992.427720\n",
       "std     61775.335675   51540.020934  10917.650434\n",
       "min     15100.570000   12113.680000   2073.610000\n",
       "25%     65310.862500   54247.957500  10746.402500\n",
       "50%    105419.425000   87094.760000  17331.830000\n",
       "75%    151192.642500  125570.837500  25205.325000\n",
       "max    383996.760000  304701.430000  79295.330000"
      ]
     },
     "execution_count": 429,
     "metadata": {},
     "output_type": "execute_result"
    }
   ],
   "source": [
    "## see status \n",
    "train.describe()"
   ]
  },
  {
   "cell_type": "markdown",
   "id": "1dd66b5f-8caa-491d-a81a-c820c730de4b",
   "metadata": {
    "tags": []
   },
   "source": [
    "## Visualization of Data"
   ]
  },
  {
   "cell_type": "markdown",
   "id": "fa76537a-6a0f-4505-9bf7-6c85817aff48",
   "metadata": {
    "tags": []
   },
   "source": [
    "### Category"
   ]
  },
  {
   "cell_type": "code",
   "execution_count": 430,
   "id": "8b1f49cc-fb0b-4d61-8c17-482b4f16d139",
   "metadata": {
    "tags": []
   },
   "outputs": [],
   "source": [
    "test=train[['category','sale','cost','profit']]\n"
   ]
  },
  {
   "cell_type": "markdown",
   "id": "9a4bc2e3-500b-4dc6-a2a8-feb7855ec618",
   "metadata": {
    "tags": []
   },
   "source": [
    "#### Sales by Category"
   ]
  },
  {
   "cell_type": "code",
   "execution_count": 431,
   "id": "db45ba76-8ba7-491d-9bd0-f72098874b6d",
   "metadata": {
    "tags": []
   },
   "outputs": [
    {
     "data": {
      "text/plain": [
       "category\n",
       "Other           3262983.0\n",
       "Accessories     4703931.0\n",
       "Outdoors        5939075.0\n",
       "Smartphones    11101655.0\n",
       "Beauty         12569064.0\n",
       "Books          13179979.0\n",
       "Electronics    14482078.0\n",
       "Appliances     15139669.0\n",
       "Games          15321623.0\n",
       "Clothing       17661682.0\n",
       "Name: sale, dtype: float64"
      ]
     },
     "execution_count": 431,
     "metadata": {},
     "output_type": "execute_result"
    }
   ],
   "source": [
    "sales_by_category=test.groupby([\"category\"])[\"sale\"].sum()\n",
    "sales_by_category=sales_by_category.sort_values()\n",
    "sales_by_category.round()"
   ]
  },
  {
   "cell_type": "code",
   "execution_count": 432,
   "id": "d9b6d4db-c7d2-44a8-ba66-198902d35b29",
   "metadata": {},
   "outputs": [
    {
     "data": {
      "text/plain": [
       "Text(0, 0.5, 'Sales in Millions')"
      ]
     },
     "execution_count": 432,
     "metadata": {},
     "output_type": "execute_result"
    },
    {
     "data": {
      "image/png": "[encoded data removed]",
      "text/plain": [
       "<Figure size 800x400 with 1 Axes>"
      ]
     },
     "metadata": {},
     "output_type": "display_data"
    }
   ],
   "source": [
    "sales_by_category.plot(kind=\"bar\")\n",
    "plt.rcParams['figure.figsize'] = [8, 4]\n",
    "plt.title(\"Sales by Category\")\n",
    "plt.ylabel(\"Sales in Millions\")"
   ]
  },
  {
   "cell_type": "markdown",
   "id": "3fd09fef-f3fb-48bf-afeb-b7a1af513060",
   "metadata": {
    "tags": []
   },
   "source": [
    "#### Costs by Category"
   ]
  },
  {
   "cell_type": "code",
   "execution_count": 433,
   "id": "1a645b46-84ca-4f67-94b5-559a917a904c",
   "metadata": {
    "tags": []
   },
   "outputs": [
    {
     "data": {
      "text/plain": [
       "category\n",
       "Other           2713949.0\n",
       "Accessories     3920034.0\n",
       "Outdoors        4882313.0\n",
       "Smartphones     9281007.0\n",
       "Beauty         10450636.0\n",
       "Books          10954065.0\n",
       "Electronics    12080945.0\n",
       "Appliances     12604789.0\n",
       "Games          12761828.0\n",
       "Clothing       14719744.0\n",
       "Name: cost, dtype: float64"
      ]
     },
     "execution_count": 433,
     "metadata": {},
     "output_type": "execute_result"
    }
   ],
   "source": [
    "costs_by_category=test.groupby([\"category\"])[\"cost\"].sum()\n",
    "costs_by_category=costs_by_category.sort_values()\n",
    "costs_by_category.round()"
   ]
  },
  {
   "cell_type": "code",
   "execution_count": 434,
   "id": "aa102d66-ac0d-4287-91f0-e55bf6c273b1",
   "metadata": {
    "tags": []
   },
   "outputs": [
    {
     "data": {
      "text/plain": [
       "Text(0, 0.5, 'Costs in Millions')"
      ]
     },
     "execution_count": 434,
     "metadata": {},
     "output_type": "execute_result"
    },
    {
     "data": {
      "image/png": "[encoded data removed]",
      "text/plain": [
       "<Figure size 800x400 with 1 Axes>"
      ]
     },
     "metadata": {},
     "output_type": "display_data"
    }
   ],
   "source": [
    "costs_by_category.plot(kind=\"bar\")\n",
    "plt.rcParams['figure.figsize'] = [8, 4]\n",
    "plt.title(\"Costs by Category\")\n",
    "plt.ylabel(\"Costs in Millions\")"
   ]
  },
  {
   "cell_type": "markdown",
   "id": "c4f92482-c084-436e-b7ca-4db2441509e3",
   "metadata": {
    "tags": []
   },
   "source": [
    "#### Profits by Category"
   ]
  },
  {
   "cell_type": "code",
   "execution_count": 435,
   "id": "2170f285-214f-46bb-a81d-59c2bdf02757",
   "metadata": {
    "tags": []
   },
   "outputs": [
    {
     "data": {
      "text/plain": [
       "category\n",
       "Other           2713949.0\n",
       "Accessories     3920034.0\n",
       "Outdoors        4882313.0\n",
       "Smartphones     9281007.0\n",
       "Beauty         10450636.0\n",
       "Books          10954065.0\n",
       "Electronics    12080945.0\n",
       "Appliances     12604789.0\n",
       "Games          12761828.0\n",
       "Clothing       14719744.0\n",
       "Name: cost, dtype: float64"
      ]
     },
     "execution_count": 435,
     "metadata": {},
     "output_type": "execute_result"
    }
   ],
   "source": [
    "profits_by_category=test.groupby([\"category\"])[\"profit\"].sum()\n",
    "profits_by_category=costs_by_category.sort_values()\n",
    "profits_by_category.round()"
   ]
  },
  {
   "cell_type": "code",
   "execution_count": 436,
   "id": "3174b636-e3c1-45ae-b8b4-dafacaf4724d",
   "metadata": {
    "tags": []
   },
   "outputs": [
    {
     "data": {
      "text/plain": [
       "Text(0, 0.5, 'Profit in Millions')"
      ]
     },
     "execution_count": 436,
     "metadata": {},
     "output_type": "execute_result"
    },
    {
     "data": {
      "image/png": "[encoded data removed]",
      "text/plain": [
       "<Figure size 800x400 with 1 Axes>"
      ]
     },
     "metadata": {},
     "output_type": "display_data"
    }
   ],
   "source": [
    "profits_by_category.plot(kind=\"bar\")\n",
    "plt.rcParams['figure.figsize'] = [8, 4]\n",
    "plt.title(\"Profits by Category\")\n",
    "plt.ylabel(\"Profit in Millions\")"
   ]
  },
  {
   "cell_type": "markdown",
   "id": "f5764657-cbbb-4585-b5f6-9fc95fa06eb8",
   "metadata": {
    "tags": []
   },
   "source": [
    "### Country"
   ]
  },
  {
   "cell_type": "code",
   "execution_count": 437,
   "id": "58c0fff0-8663-485c-89b8-af899e635504",
   "metadata": {
    "tags": []
   },
   "outputs": [],
   "source": [
    "test = train[['country','sale','cost','profit']]"
   ]
  },
  {
   "cell_type": "markdown",
   "id": "8b0d99ab-dfd7-4623-afd2-3c2d3bc64c51",
   "metadata": {
    "tags": []
   },
   "source": [
    "#### Sales by Country"
   ]
  },
  {
   "cell_type": "code",
   "execution_count": 438,
   "id": "f23506a2-370b-4d4f-99fa-f2a4203f2f04",
   "metadata": {},
   "outputs": [
    {
     "data": {
      "text/plain": [
       "country\n",
       "Austria          190166.0\n",
       "Belgium          608970.0\n",
       "Denmark          763204.0\n",
       "Italy            935569.0\n",
       "Spain           2499240.0\n",
       "Germany         2794049.0\n",
       "Luxembourg      2913550.0\n",
       "Netherlands     3224665.0\n",
       "Bulgaria        3482145.0\n",
       "Ireland         4952285.0\n",
       "Finland         5548035.0\n",
       "UK             12115617.0\n",
       "Sweden         19637204.0\n",
       "France         25900678.0\n",
       "Portugal       27796362.0\n",
       "Name: sale, dtype: float64"
      ]
     },
     "execution_count": 438,
     "metadata": {},
     "output_type": "execute_result"
    }
   ],
   "source": [
    "sales_by_country = test.groupby([\"country\"])[\"sale\"].sum()\n",
    "sales_by_country  = salels_by_country.sort_values()\n",
    "sales_by_country.round()                                  "
   ]
  },
  {
   "cell_type": "code",
   "execution_count": 439,
   "id": "01ab5024-7038-4314-88c6-3b6406503a32",
   "metadata": {
    "tags": []
   },
   "outputs": [
    {
     "data": {
      "text/plain": [
       "Text(0, 0.5, 'Sales in Millions')"
      ]
     },
     "execution_count": 439,
     "metadata": {},
     "output_type": "execute_result"
    },
    {
     "data": {
      "image/png": "[encoded data removed]",
      "text/plain": [
       "<Figure size 800x400 with 1 Axes>"
      ]
     },
     "metadata": {},
     "output_type": "display_data"
    }
   ],
   "source": [
    "sales_by_country.plot(kind=\"bar\")\n",
    "plt.rcParams['figure.figsize'] = [8, 4]\n",
    "plt.title(\"Sales by Category\")\n",
    "plt.ylabel(\"Sales in Millions\")"
   ]
  },
  {
   "cell_type": "markdown",
   "id": "0a4fa0a3-d100-4898-876f-028eea55c411",
   "metadata": {
    "tags": []
   },
   "source": [
    "#### Costs by Country"
   ]
  },
  {
   "cell_type": "code",
   "execution_count": 440,
   "id": "03b0adbf-c01a-4ae7-9a12-940e4a056475",
   "metadata": {},
   "outputs": [
    {
     "data": {
      "text/plain": [
       "country\n",
       "Austria          154448.0\n",
       "Belgium          514537.0\n",
       "Denmark          629851.0\n",
       "Italy            780111.0\n",
       "Spain           2084550.0\n",
       "Germany         2328090.0\n",
       "Luxembourg      2430984.0\n",
       "Netherlands     2699099.0\n",
       "Bulgaria        2876742.0\n",
       "Ireland         4122973.0\n",
       "Finland         4648750.0\n",
       "UK             10063563.0\n",
       "Sweden         16343687.0\n",
       "France         21565674.0\n",
       "Portugal       23126254.0\n",
       "Name: cost, dtype: float64"
      ]
     },
     "execution_count": 440,
     "metadata": {},
     "output_type": "execute_result"
    }
   ],
   "source": [
    "costs_by_country = test.groupby([\"country\"])[\"cost\"].sum()\n",
    "costs_by_country = costs_by_country.sort_values()\n",
    "costs_by_country.round()\n"
   ]
  },
  {
   "cell_type": "code",
   "execution_count": 441,
   "id": "91dcdc40-46e4-4395-af25-56b6cf087a12",
   "metadata": {
    "tags": []
   },
   "outputs": [
    {
     "data": {
      "text/plain": [
       "Text(0, 0.5, 'Costs in Millions')"
      ]
     },
     "execution_count": 441,
     "metadata": {},
     "output_type": "execute_result"
    },
    {
     "data": {
      "image/png": "[encoded data removed]",
      "text/plain": [
       "<Figure size 800x400 with 1 Axes>"
      ]
     },
     "metadata": {},
     "output_type": "display_data"
    }
   ],
   "source": [
    "costs_by_country.plot(kind=\"bar\")\n",
    "plt.rcParams['figure.figsize'] = [8, 4]\n",
    "plt.title(\"Costs by Country\")\n",
    "plt.ylabel(\"Costs in Millions\")"
   ]
  },
  {
   "cell_type": "markdown",
   "id": "9e2e48ea-9c60-43ba-864e-2751f002e1ce",
   "metadata": {
    "tags": []
   },
   "source": [
    "#### Profits by Country"
   ]
  },
  {
   "cell_type": "code",
   "execution_count": 442,
   "id": "01e0d296-d465-4735-874d-6387c7ee2726",
   "metadata": {},
   "outputs": [
    {
     "data": {
      "text/plain": [
       "country\n",
       "Austria          35718.0\n",
       "Belgium          94433.0\n",
       "Denmark         133353.0\n",
       "Italy           155459.0\n",
       "Spain           414690.0\n",
       "Germany         465958.0\n",
       "Luxembourg      482566.0\n",
       "Netherlands     525566.0\n",
       "Bulgaria        605403.0\n",
       "Ireland         829312.0\n",
       "Finland         899285.0\n",
       "UK             2052054.0\n",
       "Sweden         3293517.0\n",
       "France         4335005.0\n",
       "Portugal       4670108.0\n",
       "Name: profit, dtype: float64"
      ]
     },
     "execution_count": 442,
     "metadata": {},
     "output_type": "execute_result"
    }
   ],
   "source": [
    "\n",
    "profits_by_country = test.groupby([\"country\"])[\"profit\"].sum()\n",
    "profits_by_country = profits_by_country.sort_values()\n",
    "profits_by_country.round()"
   ]
  },
  {
   "cell_type": "code",
   "execution_count": 443,
   "id": "e82f3b5d-65e5-486a-9dad-b6ccb6338021",
   "metadata": {
    "tags": []
   },
   "outputs": [
    {
     "data": {
      "text/plain": [
       "Text(0, 0.5, 'profits in Millions')"
      ]
     },
     "execution_count": 443,
     "metadata": {},
     "output_type": "execute_result"
    },
    {
     "data": {
      "image/png": "[encoded data removed]",
      "text/plain": [
       "<Figure size 800x400 with 1 Axes>"
      ]
     },
     "metadata": {},
     "output_type": "display_data"
    }
   ],
   "source": [
    "profits_by_country.plot(kind=\"bar\")\n",
    "plt.rcParams['figure.figsize'] = [8, 4]\n",
    "plt.title(\"Profits by Country\")\n",
    "plt.ylabel(\"profits in Millions\")"
   ]
  },
  {
   "cell_type": "markdown",
   "id": "3f94e4ed-53cb-420c-bfcf-d2f25d63f43d",
   "metadata": {
    "tags": []
   },
   "source": [
    "### Device"
   ]
  },
  {
   "cell_type": "code",
   "execution_count": 444,
   "id": "ac68ae8f-e777-455e-995c-174267298e28",
   "metadata": {
    "tags": []
   },
   "outputs": [],
   "source": [
    "test = train[['device_type','sale','cost','profit']]"
   ]
  },
  {
   "cell_type": "markdown",
   "id": "aae33b0f-21c2-41cf-b7dd-29966b2f8bb1",
   "metadata": {
    "tags": []
   },
   "source": [
    "#### Sales by Device"
   ]
  },
  {
   "cell_type": "code",
   "execution_count": 445,
   "id": "7bd16caf-63a7-4ce2-a5b0-c02705430136",
   "metadata": {},
   "outputs": [
    {
     "data": {
      "text/plain": [
       "device_type\n",
       "Tablet     8267061.0\n",
       "Mobile    15447394.0\n",
       "PC        89647284.0\n",
       "Name: sale, dtype: float64"
      ]
     },
     "execution_count": 445,
     "metadata": {},
     "output_type": "execute_result"
    }
   ],
   "source": [
    "sales_by_device = test.groupby([\"device_type\"])[\"sale\"].sum()\n",
    "sales_by_device = sales_by_device.sort_values()\n",
    "sales_by_device.round()"
   ]
  },
  {
   "cell_type": "code",
   "execution_count": 446,
   "id": "fbb82a48-9e60-461b-acd7-ba852d495470",
   "metadata": {
    "tags": []
   },
   "outputs": [
    {
     "data": {
      "text/plain": [
       "Text(0, 0.5, 'Sales in Millions')"
      ]
     },
     "execution_count": 446,
     "metadata": {},
     "output_type": "execute_result"
    },
    {
     "data": {
      "image/png": "[encoded data removed]",
      "text/plain": [
       "<Figure size 800x400 with 1 Axes>"
      ]
     },
     "metadata": {},
     "output_type": "display_data"
    }
   ],
   "source": [
    "sales_by_device.plot(kind=\"bar\")\n",
    "plt.rcParams['figure.figsize'] = [4, 2]\n",
    "plt.title(\"Sales by Device\")\n",
    "plt.xlabel(\"device\")\n",
    "plt.ylabel(\"Sales in Millions\")"
   ]
  },
  {
   "cell_type": "markdown",
   "id": "ae2ae52e-f5fa-4fe8-81ff-f9616361f150",
   "metadata": {
    "tags": []
   },
   "source": [
    "#### Sales by Device"
   ]
  },
  {
   "cell_type": "code",
   "execution_count": 447,
   "id": "fa811ef5-5885-44fd-8279-068124689de2",
   "metadata": {
    "tags": []
   },
   "outputs": [
    {
     "data": {
      "text/plain": [
       "device_type\n",
       "Tablet     6915645.0\n",
       "Mobile    12894680.0\n",
       "PC        74558986.0\n",
       "Name: cost, dtype: float64"
      ]
     },
     "execution_count": 447,
     "metadata": {},
     "output_type": "execute_result"
    }
   ],
   "source": [
    "costs_by_device = test.groupby([\"device_type\"])[\"cost\"].sum()\n",
    "costs_by_device = costs_by_device.sort_values()\n",
    "costs_by_device.round()"
   ]
  },
  {
   "cell_type": "code",
   "execution_count": 448,
   "id": "8c22a5d6-cec8-41ea-af1d-b1c95a68b614",
   "metadata": {
    "tags": []
   },
   "outputs": [
    {
     "data": {
      "text/plain": [
       "Text(0, 0.5, 'Costs in Millions')"
      ]
     },
     "execution_count": 448,
     "metadata": {},
     "output_type": "execute_result"
    },
    {
     "data": {
      "image/png": "[encoded data removed]",
      "text/plain": [
       "<Figure size 400x200 with 1 Axes>"
      ]
     },
     "metadata": {},
     "output_type": "display_data"
    }
   ],
   "source": [
    "costs_by_device.plot(kind=\"bar\")\n",
    "plt.rcParams['figure.figsize'] = [4, 2]\n",
    "plt.title(\"Costs by Device\")\n",
    "plt.xlabel(\"device\")\n",
    "plt.ylabel(\"Costs in Millions\")"
   ]
  },
  {
   "cell_type": "markdown",
   "id": "f5dc2d5e-6c5c-4206-ba58-054e1c05ded6",
   "metadata": {
    "tags": []
   },
   "source": [
    "#### Profits by Device"
   ]
  },
  {
   "cell_type": "code",
   "execution_count": 449,
   "id": "348e8e53-1924-48ca-94b1-917e0e649067",
   "metadata": {},
   "outputs": [
    {
     "data": {
      "text/plain": [
       "device_type\n",
       "Tablet     6915645.0\n",
       "Mobile    12894680.0\n",
       "PC        74558986.0\n",
       "Name: cost, dtype: float64"
      ]
     },
     "execution_count": 449,
     "metadata": {},
     "output_type": "execute_result"
    }
   ],
   "source": [
    "profits_by_device = test.groupby([\"device_type\"])[\"profit\"].sum()\n",
    "profits_by_device = costs_by_device.sort_values()\n",
    "profits_by_device.round()"
   ]
  },
  {
   "cell_type": "code",
   "execution_count": 450,
   "id": "bfed39f6-2533-40b3-a88e-6559f8ba8af1",
   "metadata": {},
   "outputs": [
    {
     "data": {
      "text/plain": [
       "Text(0, 0.5, 'Profits in Millions')"
      ]
     },
     "execution_count": 450,
     "metadata": {},
     "output_type": "execute_result"
    },
    {
     "data": {
      "image/png": "[encoded data removed]",
      "text/plain": [
       "<Figure size 400x200 with 1 Axes>"
      ]
     },
     "metadata": {},
     "output_type": "display_data"
    }
   ],
   "source": [
    "profits_by_device.plot(kind=\"bar\")\n",
    "plt.rcParams['figure.figsize'] = [4, 2]\n",
    "plt.title(\"Profits by Device\")\n",
    "plt.xlabel(\"device\")\n",
    "plt.ylabel(\"Profits in Millions\")"
   ]
  },
  {
   "cell_type": "markdown",
   "id": "90a274e6-0611-43ad-ba6a-3a5e65ca2c94",
   "metadata": {
    "tags": []
   },
   "source": [
    "### Sales Manager"
   ]
  },
  {
   "cell_type": "code",
   "execution_count": 451,
   "id": "f3063704-b3e3-4168-838c-9ac9d9505740",
   "metadata": {
    "tags": []
   },
   "outputs": [],
   "source": [
    "test = train[['sales_manager','sale','cost','profit']]"
   ]
  },
  {
   "cell_type": "markdown",
   "id": "afb1ca98-bdf3-4942-8b79-3ae71e2a3af7",
   "metadata": {
    "tags": []
   },
   "source": [
    "#### Sales by Sales Manager"
   ]
  },
  {
   "cell_type": "code",
   "execution_count": 452,
   "id": "35afc415-0417-4ab7-af8d-1c6626d18e5e",
   "metadata": {},
   "outputs": [
    {
     "data": {
      "text/plain": [
       "sales_manager\n",
       "Orsa Geekin           190166.0\n",
       "Lambert Norheny       608970.0\n",
       "Modestia Byfford      763204.0\n",
       "Piggy Roscrigg        935569.0\n",
       "Emalia Dinse         2499240.0\n",
       "Rickard Doogood      2794049.0\n",
       "Ilsa Kob             2913550.0\n",
       "Denice Amberg        3224665.0\n",
       "Charil Alpe          3482145.0\n",
       "Glenine Suttaby      4952285.0\n",
       "Hube Corey           5548035.0\n",
       "Jessamine Apark     12115617.0\n",
       "Maxie Marrow        19637204.0\n",
       "Othello Bowes       25900678.0\n",
       "Celine Tumasian     27796362.0\n",
       "Name: sale, dtype: float64"
      ]
     },
     "execution_count": 452,
     "metadata": {},
     "output_type": "execute_result"
    }
   ],
   "source": [
    "sales_by_manger = test.groupby([\"sales_manager\"])[\"sale\"].sum()\n",
    "sales_by_manger = sales_by_manger.sort_values()\n",
    "sales_by_manger.round()"
   ]
  },
  {
   "cell_type": "code",
   "execution_count": 453,
   "id": "6aba5321-d33a-41f0-b983-e23f7ac42195",
   "metadata": {
    "tags": []
   },
   "outputs": [
    {
     "data": {
      "text/plain": [
       "Text(0, 0.5, 'Sales in Millions')"
      ]
     },
     "execution_count": 453,
     "metadata": {},
     "output_type": "execute_result"
    },
    {
     "data": {
      "image/png": "[encoded data removed]",
      "text/plain": [
       "<Figure size 400x200 with 1 Axes>"
      ]
     },
     "metadata": {},
     "output_type": "display_data"
    }
   ],
   "source": [
    "sales_by_manger.plot(kind=\"bar\")\n",
    "plt.rcParams['figure.figsize'] = [8, 4]\n",
    "plt.title(\"Sales by Sales Manger\")\n",
    "plt.xlabel(\"Sales Manger\")\n",
    "plt.ylabel(\"Sales in Millions\")"
   ]
  },
  {
   "cell_type": "markdown",
   "id": "0f3091cb-00ae-47c5-ac0b-61e35d009195",
   "metadata": {
    "tags": []
   },
   "source": [
    "#### Costs by Sales Manager"
   ]
  },
  {
   "cell_type": "code",
   "execution_count": 454,
   "id": "42a78be5-cfbb-4f41-9342-be8a3b10057a",
   "metadata": {},
   "outputs": [
    {
     "data": {
      "text/plain": [
       "sales_manager\n",
       "Orsa Geekin           154448.0\n",
       "Lambert Norheny       514537.0\n",
       "Modestia Byfford      629851.0\n",
       "Piggy Roscrigg        780111.0\n",
       "Emalia Dinse         2084550.0\n",
       "Rickard Doogood      2328090.0\n",
       "Ilsa Kob             2430984.0\n",
       "Denice Amberg        2699099.0\n",
       "Charil Alpe          2876742.0\n",
       "Glenine Suttaby      4122973.0\n",
       "Hube Corey           4648750.0\n",
       "Jessamine Apark     10063563.0\n",
       "Maxie Marrow        16343687.0\n",
       "Othello Bowes       21565674.0\n",
       "Celine Tumasian     23126254.0\n",
       "Name: cost, dtype: float64"
      ]
     },
     "execution_count": 454,
     "metadata": {},
     "output_type": "execute_result"
    }
   ],
   "source": [
    "costs_by_manger = test.groupby([\"sales_manager\"])[\"cost\"].sum()\n",
    "costs_by_manger = costs_by_manger.sort_values()\n",
    "costs_by_manger.round()"
   ]
  },
  {
   "cell_type": "code",
   "execution_count": 455,
   "id": "7787b71c-0bad-4553-8c6d-1ca3926bac86",
   "metadata": {
    "tags": []
   },
   "outputs": [
    {
     "data": {
      "text/plain": [
       "Text(0, 0.5, 'Costs in Millions')"
      ]
     },
     "execution_count": 455,
     "metadata": {},
     "output_type": "execute_result"
    },
    {
     "data": {
      "image/png": "[encoded data removed]",
      "text/plain": [
       "<Figure size 800x400 with 1 Axes>"
      ]
     },
     "metadata": {},
     "output_type": "display_data"
    }
   ],
   "source": [
    "costs_by_manger.plot(kind=\"bar\")\n",
    "plt.rcParams['figure.figsize'] = [8, 4]\n",
    "plt.title(\"Costs by Sales Manger\")\n",
    "plt.xlabel(\"Sales Manger\")\n",
    "plt.ylabel(\"Costs in Millions\")"
   ]
  },
  {
   "cell_type": "markdown",
   "id": "b11a27a4-f460-44c6-a36a-d70e15343ce5",
   "metadata": {
    "tags": []
   },
   "source": [
    "#### Profits by Sales Manager"
   ]
  },
  {
   "cell_type": "code",
   "execution_count": 456,
   "id": "4e104666-d124-4fa7-8aab-f1d8c9422d63",
   "metadata": {},
   "outputs": [
    {
     "data": {
      "text/plain": [
       "sales_manager\n",
       "Orsa Geekin           35718.0\n",
       "Lambert Norheny       94433.0\n",
       "Modestia Byfford     133353.0\n",
       "Piggy Roscrigg       155459.0\n",
       "Emalia Dinse         414690.0\n",
       "Rickard Doogood      465958.0\n",
       "Ilsa Kob             482566.0\n",
       "Denice Amberg        525566.0\n",
       "Charil Alpe          605403.0\n",
       "Glenine Suttaby      829312.0\n",
       "Hube Corey           899285.0\n",
       "Jessamine Apark     2052054.0\n",
       "Maxie Marrow        3293517.0\n",
       "Othello Bowes       4335005.0\n",
       "Celine Tumasian     4670108.0\n",
       "Name: profit, dtype: float64"
      ]
     },
     "execution_count": 456,
     "metadata": {},
     "output_type": "execute_result"
    }
   ],
   "source": [
    "profits_by_manger = test.groupby([\"sales_manager\"])[\"profit\"].sum()\n",
    "profits_by_manger = profits_by_manger.sort_values()\n",
    "profits_by_manger.round()"
   ]
  },
  {
   "cell_type": "code",
   "execution_count": 457,
   "id": "6bf9f412-634b-4909-ba5a-fee2c1efbcf9",
   "metadata": {},
   "outputs": [
    {
     "data": {
      "text/plain": [
       "Text(0, 0.5, 'Profits in Millions')"
      ]
     },
     "execution_count": 457,
     "metadata": {},
     "output_type": "execute_result"
    },
    {
     "data": {
      "image/png": "[encoded data removed]",
      "text/plain": [
       "<Figure size 800x400 with 1 Axes>"
      ]
     },
     "metadata": {},
     "output_type": "display_data"
    }
   ],
   "source": [
    "profits_by_manger.plot(kind=\"bar\")\n",
    "plt.rcParams['figure.figsize'] = [8, 4]\n",
    "plt.title(\"Profits by Sales Manger\")\n",
    "plt.xlabel(\"Sales Manger\")\n",
    "plt.ylabel(\"Profits in Millions\")"
   ]
  },
  {
   "cell_type": "markdown",
   "id": "0fa34c0b-5a53-4e4c-949f-927c2689a90c",
   "metadata": {
    "tags": []
   },
   "source": [
    "### Year"
   ]
  },
  {
   "cell_type": "code",
   "execution_count": 458,
   "id": "80644374-bcc5-4c6e-aa67-b3fea9cc66ed",
   "metadata": {
    "tags": []
   },
   "outputs": [
    {
     "data": {
      "text/html": [
       "<div>\n",
       "<style scoped>\n",
       "    .dataframe tbody tr th:only-of-type {\n",
       "        vertical-align: middle;\n",
       "    }\n",
       "\n",
       "    .dataframe tbody tr th {\n",
       "        vertical-align: top;\n",
       "    }\n",
       "\n",
       "    .dataframe thead th {\n",
       "        text-align: right;\n",
       "    }\n",
       "</style>\n",
       "<table border=\"1\" class=\"dataframe\">\n",
       "  <thead>\n",
       "    <tr style=\"text-align: right;\">\n",
       "      <th></th>\n",
       "      <th>country</th>\n",
       "      <th>sale</th>\n",
       "      <th>cost</th>\n",
       "      <th>date</th>\n",
       "      <th>category</th>\n",
       "      <th>sales_manager</th>\n",
       "      <th>device_type</th>\n",
       "      <th>profit</th>\n",
       "      <th>year</th>\n",
       "      <th>month</th>\n",
       "    </tr>\n",
       "  </thead>\n",
       "  <tbody>\n",
       "    <tr>\n",
       "      <th>0</th>\n",
       "      <td>Sweden</td>\n",
       "      <td>17524.02</td>\n",
       "      <td>14122.61</td>\n",
       "      <td>2020-02-12</td>\n",
       "      <td>Books</td>\n",
       "      <td>Maxie Marrow</td>\n",
       "      <td>Mobile</td>\n",
       "      <td>3401.41</td>\n",
       "      <td>2020</td>\n",
       "      <td>2</td>\n",
       "    </tr>\n",
       "    <tr>\n",
       "      <th>1</th>\n",
       "      <td>Finland</td>\n",
       "      <td>116563.40</td>\n",
       "      <td>92807.78</td>\n",
       "      <td>2019-09-26</td>\n",
       "      <td>Games</td>\n",
       "      <td>Hube Corey</td>\n",
       "      <td>Mobile</td>\n",
       "      <td>23755.62</td>\n",
       "      <td>2019</td>\n",
       "      <td>9</td>\n",
       "    </tr>\n",
       "    <tr>\n",
       "      <th>2</th>\n",
       "      <td>Portugal</td>\n",
       "      <td>296465.56</td>\n",
       "      <td>257480.34</td>\n",
       "      <td>2019-07-11</td>\n",
       "      <td>Clothing</td>\n",
       "      <td>Celine Tumasian</td>\n",
       "      <td>PC</td>\n",
       "      <td>38985.22</td>\n",
       "      <td>2019</td>\n",
       "      <td>7</td>\n",
       "    </tr>\n",
       "    <tr>\n",
       "      <th>3</th>\n",
       "      <td>Portugal</td>\n",
       "      <td>74532.02</td>\n",
       "      <td>59752.32</td>\n",
       "      <td>2020-04-02</td>\n",
       "      <td>Beauty</td>\n",
       "      <td>Celine Tumasian</td>\n",
       "      <td>PC</td>\n",
       "      <td>14779.70</td>\n",
       "      <td>2020</td>\n",
       "      <td>4</td>\n",
       "    </tr>\n",
       "    <tr>\n",
       "      <th>4</th>\n",
       "      <td>Spain</td>\n",
       "      <td>178763.42</td>\n",
       "      <td>146621.76</td>\n",
       "      <td>2019-12-22</td>\n",
       "      <td>Games</td>\n",
       "      <td>Emalia Dinse</td>\n",
       "      <td>Tablet</td>\n",
       "      <td>32141.66</td>\n",
       "      <td>2019</td>\n",
       "      <td>12</td>\n",
       "    </tr>\n",
       "    <tr>\n",
       "      <th>...</th>\n",
       "      <td>...</td>\n",
       "      <td>...</td>\n",
       "      <td>...</td>\n",
       "      <td>...</td>\n",
       "      <td>...</td>\n",
       "      <td>...</td>\n",
       "      <td>...</td>\n",
       "      <td>...</td>\n",
       "      <td>...</td>\n",
       "      <td>...</td>\n",
       "    </tr>\n",
       "    <tr>\n",
       "      <th>995</th>\n",
       "      <td>France</td>\n",
       "      <td>46296.26</td>\n",
       "      <td>40319.41</td>\n",
       "      <td>2020-05-15</td>\n",
       "      <td>Games</td>\n",
       "      <td>Othello Bowes</td>\n",
       "      <td>Tablet</td>\n",
       "      <td>5976.85</td>\n",
       "      <td>2020</td>\n",
       "      <td>5</td>\n",
       "    </tr>\n",
       "    <tr>\n",
       "      <th>996</th>\n",
       "      <td>Belgium</td>\n",
       "      <td>118061.05</td>\n",
       "      <td>101131.10</td>\n",
       "      <td>2020-07-02</td>\n",
       "      <td>Appliances</td>\n",
       "      <td>Lambert Norheny</td>\n",
       "      <td>Mobile</td>\n",
       "      <td>16929.95</td>\n",
       "      <td>2020</td>\n",
       "      <td>7</td>\n",
       "    </tr>\n",
       "    <tr>\n",
       "      <th>997</th>\n",
       "      <td>Finland</td>\n",
       "      <td>74480.56</td>\n",
       "      <td>60023.88</td>\n",
       "      <td>2020-03-06</td>\n",
       "      <td>Clothing</td>\n",
       "      <td>Hube Corey</td>\n",
       "      <td>PC</td>\n",
       "      <td>14456.68</td>\n",
       "      <td>2020</td>\n",
       "      <td>3</td>\n",
       "    </tr>\n",
       "    <tr>\n",
       "      <th>998</th>\n",
       "      <td>Spain</td>\n",
       "      <td>87205.01</td>\n",
       "      <td>69171.01</td>\n",
       "      <td>2020-06-18</td>\n",
       "      <td>Games</td>\n",
       "      <td>Emalia Dinse</td>\n",
       "      <td>Tablet</td>\n",
       "      <td>18034.00</td>\n",
       "      <td>2020</td>\n",
       "      <td>6</td>\n",
       "    </tr>\n",
       "    <tr>\n",
       "      <th>999</th>\n",
       "      <td>Portugal</td>\n",
       "      <td>107716.72</td>\n",
       "      <td>86679.64</td>\n",
       "      <td>2020-01-18</td>\n",
       "      <td>Accessories</td>\n",
       "      <td>Celine Tumasian</td>\n",
       "      <td>Mobile</td>\n",
       "      <td>21037.08</td>\n",
       "      <td>2020</td>\n",
       "      <td>1</td>\n",
       "    </tr>\n",
       "  </tbody>\n",
       "</table>\n",
       "<p>1000 rows × 10 columns</p>\n",
       "</div>"
      ],
      "text/plain": [
       "      country       sale       cost       date     category    sales_manager  \\\n",
       "0      Sweden   17524.02   14122.61 2020-02-12        Books     Maxie Marrow   \n",
       "1     Finland  116563.40   92807.78 2019-09-26        Games       Hube Corey   \n",
       "2    Portugal  296465.56  257480.34 2019-07-11     Clothing  Celine Tumasian   \n",
       "3    Portugal   74532.02   59752.32 2020-04-02       Beauty  Celine Tumasian   \n",
       "4       Spain  178763.42  146621.76 2019-12-22        Games     Emalia Dinse   \n",
       "..        ...        ...        ...        ...          ...              ...   \n",
       "995    France   46296.26   40319.41 2020-05-15        Games    Othello Bowes   \n",
       "996   Belgium  118061.05  101131.10 2020-07-02   Appliances  Lambert Norheny   \n",
       "997   Finland   74480.56   60023.88 2020-03-06     Clothing       Hube Corey   \n",
       "998     Spain   87205.01   69171.01 2020-06-18        Games     Emalia Dinse   \n",
       "999  Portugal  107716.72   86679.64 2020-01-18  Accessories  Celine Tumasian   \n",
       "\n",
       "    device_type    profit  year  month  \n",
       "0        Mobile   3401.41  2020      2  \n",
       "1        Mobile  23755.62  2019      9  \n",
       "2            PC  38985.22  2019      7  \n",
       "3            PC  14779.70  2020      4  \n",
       "4        Tablet  32141.66  2019     12  \n",
       "..          ...       ...   ...    ...  \n",
       "995      Tablet   5976.85  2020      5  \n",
       "996      Mobile  16929.95  2020      7  \n",
       "997          PC  14456.68  2020      3  \n",
       "998      Tablet  18034.00  2020      6  \n",
       "999      Mobile  21037.08  2020      1  \n",
       "\n",
       "[1000 rows x 10 columns]"
      ]
     },
     "execution_count": 458,
     "metadata": {},
     "output_type": "execute_result"
    }
   ],
   "source": [
    "train['year'] = train.date.dt.year\n",
    "train['month'] = train.date.dt.month\n",
    "train"
   ]
  },
  {
   "cell_type": "markdown",
   "id": "7a7909de-d10d-490a-87e7-82753c5e25fc",
   "metadata": {},
   "source": [
    "#### Sales"
   ]
  },
  {
   "cell_type": "code",
   "execution_count": 459,
   "id": "1018aaf3-6f75-460a-addf-0f3bf842d098",
   "metadata": {
    "tags": []
   },
   "outputs": [
    {
     "data": {
      "text/plain": [
       "Text(0.5, 1.0, 'Sales in year')"
      ]
     },
     "execution_count": 459,
     "metadata": {},
     "output_type": "execute_result"
    },
    {
     "data": {
      "image/png": "[encoded data removed]",
      "text/plain": [
       "<Figure size 800x400 with 1 Axes>"
      ]
     },
     "metadata": {},
     "output_type": "display_data"
    }
   ],
   "source": [
    "sns.barplot(train,x='month',y='sale',hue='year')\n",
    "plt.xlabel(\"Month\")\n",
    "plt.ylabel(\"Sales\")\n",
    "plt.title(\"Sales in year\")"
   ]
  },
  {
   "cell_type": "markdown",
   "id": "bc1614e8-8be0-4015-a98d-c889e8100e08",
   "metadata": {},
   "source": [
    "#### Costs"
   ]
  },
  {
   "cell_type": "code",
   "execution_count": 460,
   "id": "5d882f95-24b9-412e-9697-029a1722ef8a",
   "metadata": {
    "tags": []
   },
   "outputs": [
    {
     "data": {
      "text/plain": [
       "Text(0.5, 1.0, 'Costs in year')"
      ]
     },
     "execution_count": 460,
     "metadata": {},
     "output_type": "execute_result"
    },
    {
     "data": {
      "image/png": "[encoded data removed]",
      "text/plain": [
       "<Figure size 800x400 with 1 Axes>"
      ]
     },
     "metadata": {},
     "output_type": "display_data"
    }
   ],
   "source": [
    "sns.barplot(train,x='month',y='cost',hue='year')\n",
    "plt.xlabel(\"Month\")\n",
    "plt.ylabel(\"Costs\")\n",
    "plt.title(\"Costs in year\")"
   ]
  },
  {
   "cell_type": "markdown",
   "id": "48232c0e-80ad-4416-a09e-cacbbf0716d2",
   "metadata": {},
   "source": [
    "#### Profits"
   ]
  },
  {
   "cell_type": "code",
   "execution_count": 461,
   "id": "10e1b48d-93a9-41d8-897e-b6971d2e6205",
   "metadata": {
    "tags": []
   },
   "outputs": [
    {
     "data": {
      "text/plain": [
       "Text(0.5, 1.0, 'Profits in year')"
      ]
     },
     "execution_count": 461,
     "metadata": {},
     "output_type": "execute_result"
    },
    {
     "data": {
      "image/png": "[encoded data removed]",
      "text/plain": [
       "<Figure size 800x400 with 1 Axes>"
      ]
     },
     "metadata": {},
     "output_type": "display_data"
    }
   ],
   "source": [
    "sns.barplot(train,x='month',y='profit',hue='year')\n",
    "plt.xlabel(\"Month\")\n",
    "plt.ylabel(\"Profits\")\n",
    "plt.title(\"Profits in year\")"
   ]
  }
 ],
 "metadata": {
  "kernelspec": {
   "display_name": "Python 3 (ipykernel)",
   "language": "python",
   "name": "python3"
  },
  "language_info": {
   "codemirror_mode": {
    "name": "ipython",
    "version": 3
   },
   "file_extension": ".py",
   "mimetype": "text/x-python",
   "name": "python",
   "nbconvert_exporter": "python",
   "pygments_lexer": "ipython3",
   "version": "3.11.3"
  }
 },
 "nbformat": 4,
 "nbformat_minor": 5
}
